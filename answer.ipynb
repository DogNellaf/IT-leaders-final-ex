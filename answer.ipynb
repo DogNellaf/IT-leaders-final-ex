{
 "cells": [
  {
   "cell_type": "markdown",
   "metadata": {},
   "source": [
    "## Машинное обучение — Итоговая аттестация"
   ]
  },
  {
   "cell_type": "code",
   "execution_count": 1,
   "metadata": {},
   "outputs": [
    {
     "name": "stdout",
     "output_type": "stream",
     "text": [
      "Requirement already satisfied: pandas in c:\\users\\dognellaf\\appdata\\local\\programs\\python\\python311\\lib\\site-packages (from -r requirements.txt (line 1)) (2.1.2)\n",
      "Requirement already satisfied: tensorflow in c:\\users\\dognellaf\\appdata\\local\\programs\\python\\python311\\lib\\site-packages (from -r requirements.txt (line 2)) (2.14.0)\n",
      "Requirement already satisfied: keras in c:\\users\\dognellaf\\appdata\\local\\programs\\python\\python311\\lib\\site-packages (from -r requirements.txt (line 3)) (2.14.0)\n",
      "Requirement already satisfied: numpy in c:\\users\\dognellaf\\appdata\\local\\programs\\python\\python311\\lib\\site-packages (from -r requirements.txt (line 4)) (1.26.1)\n",
      "Requirement already satisfied: python-dateutil>=2.8.2 in c:\\users\\dognellaf\\appdata\\roaming\\python\\python311\\site-packages (from pandas->-r requirements.txt (line 1)) (2.8.2)\n",
      "Requirement already satisfied: pytz>=2020.1 in c:\\users\\dognellaf\\appdata\\local\\programs\\python\\python311\\lib\\site-packages (from pandas->-r requirements.txt (line 1)) (2023.3.post1)\n",
      "Requirement already satisfied: tzdata>=2022.1 in c:\\users\\dognellaf\\appdata\\local\\programs\\python\\python311\\lib\\site-packages (from pandas->-r requirements.txt (line 1)) (2023.3)\n",
      "Requirement already satisfied: tensorflow-intel==2.14.0 in c:\\users\\dognellaf\\appdata\\local\\programs\\python\\python311\\lib\\site-packages (from tensorflow->-r requirements.txt (line 2)) (2.14.0)\n",
      "Requirement already satisfied: absl-py>=1.0.0 in c:\\users\\dognellaf\\appdata\\local\\programs\\python\\python311\\lib\\site-packages (from tensorflow-intel==2.14.0->tensorflow->-r requirements.txt (line 2)) (2.0.0)\n",
      "Requirement already satisfied: astunparse>=1.6.0 in c:\\users\\dognellaf\\appdata\\local\\programs\\python\\python311\\lib\\site-packages (from tensorflow-intel==2.14.0->tensorflow->-r requirements.txt (line 2)) (1.6.3)\n",
      "Requirement already satisfied: flatbuffers>=23.5.26 in c:\\users\\dognellaf\\appdata\\local\\programs\\python\\python311\\lib\\site-packages (from tensorflow-intel==2.14.0->tensorflow->-r requirements.txt (line 2)) (23.5.26)\n",
      "Requirement already satisfied: gast!=0.5.0,!=0.5.1,!=0.5.2,>=0.2.1 in c:\\users\\dognellaf\\appdata\\local\\programs\\python\\python311\\lib\\site-packages (from tensorflow-intel==2.14.0->tensorflow->-r requirements.txt (line 2)) (0.5.4)\n",
      "Requirement already satisfied: google-pasta>=0.1.1 in c:\\users\\dognellaf\\appdata\\local\\programs\\python\\python311\\lib\\site-packages (from tensorflow-intel==2.14.0->tensorflow->-r requirements.txt (line 2)) (0.2.0)\n",
      "Requirement already satisfied: h5py>=2.9.0 in c:\\users\\dognellaf\\appdata\\local\\programs\\python\\python311\\lib\\site-packages (from tensorflow-intel==2.14.0->tensorflow->-r requirements.txt (line 2)) (3.10.0)\n",
      "Requirement already satisfied: libclang>=13.0.0 in c:\\users\\dognellaf\\appdata\\local\\programs\\python\\python311\\lib\\site-packages (from tensorflow-intel==2.14.0->tensorflow->-r requirements.txt (line 2)) (16.0.6)\n",
      "Requirement already satisfied: ml-dtypes==0.2.0 in c:\\users\\dognellaf\\appdata\\local\\programs\\python\\python311\\lib\\site-packages (from tensorflow-intel==2.14.0->tensorflow->-r requirements.txt (line 2)) (0.2.0)\n",
      "Requirement already satisfied: opt-einsum>=2.3.2 in c:\\users\\dognellaf\\appdata\\local\\programs\\python\\python311\\lib\\site-packages (from tensorflow-intel==2.14.0->tensorflow->-r requirements.txt (line 2)) (3.3.0)\n",
      "Requirement already satisfied: packaging in c:\\users\\dognellaf\\appdata\\roaming\\python\\python311\\site-packages (from tensorflow-intel==2.14.0->tensorflow->-r requirements.txt (line 2)) (23.2)\n",
      "Requirement already satisfied: protobuf!=4.21.0,!=4.21.1,!=4.21.2,!=4.21.3,!=4.21.4,!=4.21.5,<5.0.0dev,>=3.20.3 in c:\\users\\dognellaf\\appdata\\local\\programs\\python\\python311\\lib\\site-packages (from tensorflow-intel==2.14.0->tensorflow->-r requirements.txt (line 2)) (4.25.0)\n",
      "Requirement already satisfied: setuptools in c:\\users\\dognellaf\\appdata\\local\\programs\\python\\python311\\lib\\site-packages (from tensorflow-intel==2.14.0->tensorflow->-r requirements.txt (line 2)) (65.5.0)\n",
      "Requirement already satisfied: six>=1.12.0 in c:\\users\\dognellaf\\appdata\\roaming\\python\\python311\\site-packages (from tensorflow-intel==2.14.0->tensorflow->-r requirements.txt (line 2)) (1.16.0)\n",
      "Requirement already satisfied: termcolor>=1.1.0 in c:\\users\\dognellaf\\appdata\\local\\programs\\python\\python311\\lib\\site-packages (from tensorflow-intel==2.14.0->tensorflow->-r requirements.txt (line 2)) (2.3.0)\n",
      "Requirement already satisfied: typing-extensions>=3.6.6 in c:\\users\\dognellaf\\appdata\\local\\programs\\python\\python311\\lib\\site-packages (from tensorflow-intel==2.14.0->tensorflow->-r requirements.txt (line 2)) (4.8.0)\n",
      "Requirement already satisfied: wrapt<1.15,>=1.11.0 in c:\\users\\dognellaf\\appdata\\local\\programs\\python\\python311\\lib\\site-packages (from tensorflow-intel==2.14.0->tensorflow->-r requirements.txt (line 2)) (1.14.1)\n",
      "Requirement already satisfied: tensorflow-io-gcs-filesystem>=0.23.1 in c:\\users\\dognellaf\\appdata\\local\\programs\\python\\python311\\lib\\site-packages (from tensorflow-intel==2.14.0->tensorflow->-r requirements.txt (line 2)) (0.31.0)\n",
      "Requirement already satisfied: grpcio<2.0,>=1.24.3 in c:\\users\\dognellaf\\appdata\\local\\programs\\python\\python311\\lib\\site-packages (from tensorflow-intel==2.14.0->tensorflow->-r requirements.txt (line 2)) (1.59.2)\n",
      "Requirement already satisfied: tensorboard<2.15,>=2.14 in c:\\users\\dognellaf\\appdata\\local\\programs\\python\\python311\\lib\\site-packages (from tensorflow-intel==2.14.0->tensorflow->-r requirements.txt (line 2)) (2.14.1)\n",
      "Requirement already satisfied: tensorflow-estimator<2.15,>=2.14.0 in c:\\users\\dognellaf\\appdata\\local\\programs\\python\\python311\\lib\\site-packages (from tensorflow-intel==2.14.0->tensorflow->-r requirements.txt (line 2)) (2.14.0)\n",
      "Requirement already satisfied: wheel<1.0,>=0.23.0 in c:\\users\\dognellaf\\appdata\\local\\programs\\python\\python311\\lib\\site-packages (from astunparse>=1.6.0->tensorflow-intel==2.14.0->tensorflow->-r requirements.txt (line 2)) (0.41.3)\n",
      "Requirement already satisfied: google-auth<3,>=1.6.3 in c:\\users\\dognellaf\\appdata\\local\\programs\\python\\python311\\lib\\site-packages (from tensorboard<2.15,>=2.14->tensorflow-intel==2.14.0->tensorflow->-r requirements.txt (line 2)) (2.23.4)\n",
      "Requirement already satisfied: google-auth-oauthlib<1.1,>=0.5 in c:\\users\\dognellaf\\appdata\\local\\programs\\python\\python311\\lib\\site-packages (from tensorboard<2.15,>=2.14->tensorflow-intel==2.14.0->tensorflow->-r requirements.txt (line 2)) (1.0.0)\n",
      "Requirement already satisfied: markdown>=2.6.8 in c:\\users\\dognellaf\\appdata\\local\\programs\\python\\python311\\lib\\site-packages (from tensorboard<2.15,>=2.14->tensorflow-intel==2.14.0->tensorflow->-r requirements.txt (line 2)) (3.5.1)\n",
      "Requirement already satisfied: requests<3,>=2.21.0 in c:\\users\\dognellaf\\appdata\\local\\programs\\python\\python311\\lib\\site-packages (from tensorboard<2.15,>=2.14->tensorflow-intel==2.14.0->tensorflow->-r requirements.txt (line 2)) (2.31.0)\n",
      "Requirement already satisfied: tensorboard-data-server<0.8.0,>=0.7.0 in c:\\users\\dognellaf\\appdata\\local\\programs\\python\\python311\\lib\\site-packages (from tensorboard<2.15,>=2.14->tensorflow-intel==2.14.0->tensorflow->-r requirements.txt (line 2)) (0.7.2)\n",
      "Requirement already satisfied: werkzeug>=1.0.1 in c:\\users\\dognellaf\\appdata\\local\\programs\\python\\python311\\lib\\site-packages (from tensorboard<2.15,>=2.14->tensorflow-intel==2.14.0->tensorflow->-r requirements.txt (line 2)) (3.0.1)\n",
      "Requirement already satisfied: cachetools<6.0,>=2.0.0 in c:\\users\\dognellaf\\appdata\\local\\programs\\python\\python311\\lib\\site-packages (from google-auth<3,>=1.6.3->tensorboard<2.15,>=2.14->tensorflow-intel==2.14.0->tensorflow->-r requirements.txt (line 2)) (5.3.2)\n",
      "Requirement already satisfied: pyasn1-modules>=0.2.1 in c:\\users\\dognellaf\\appdata\\local\\programs\\python\\python311\\lib\\site-packages (from google-auth<3,>=1.6.3->tensorboard<2.15,>=2.14->tensorflow-intel==2.14.0->tensorflow->-r requirements.txt (line 2)) (0.3.0)\n",
      "Requirement already satisfied: rsa<5,>=3.1.4 in c:\\users\\dognellaf\\appdata\\local\\programs\\python\\python311\\lib\\site-packages (from google-auth<3,>=1.6.3->tensorboard<2.15,>=2.14->tensorflow-intel==2.14.0->tensorflow->-r requirements.txt (line 2)) (4.9)\n",
      "Requirement already satisfied: requests-oauthlib>=0.7.0 in c:\\users\\dognellaf\\appdata\\local\\programs\\python\\python311\\lib\\site-packages (from google-auth-oauthlib<1.1,>=0.5->tensorboard<2.15,>=2.14->tensorflow-intel==2.14.0->tensorflow->-r requirements.txt (line 2)) (1.3.1)\n",
      "Requirement already satisfied: charset-normalizer<4,>=2 in c:\\users\\dognellaf\\appdata\\local\\programs\\python\\python311\\lib\\site-packages (from requests<3,>=2.21.0->tensorboard<2.15,>=2.14->tensorflow-intel==2.14.0->tensorflow->-r requirements.txt (line 2)) (3.3.2)\n",
      "Requirement already satisfied: idna<4,>=2.5 in c:\\users\\dognellaf\\appdata\\local\\programs\\python\\python311\\lib\\site-packages (from requests<3,>=2.21.0->tensorboard<2.15,>=2.14->tensorflow-intel==2.14.0->tensorflow->-r requirements.txt (line 2)) (3.4)\n",
      "Requirement already satisfied: urllib3<3,>=1.21.1 in c:\\users\\dognellaf\\appdata\\local\\programs\\python\\python311\\lib\\site-packages (from requests<3,>=2.21.0->tensorboard<2.15,>=2.14->tensorflow-intel==2.14.0->tensorflow->-r requirements.txt (line 2)) (2.0.7)\n",
      "Requirement already satisfied: certifi>=2017.4.17 in c:\\users\\dognellaf\\appdata\\local\\programs\\python\\python311\\lib\\site-packages (from requests<3,>=2.21.0->tensorboard<2.15,>=2.14->tensorflow-intel==2.14.0->tensorflow->-r requirements.txt (line 2)) (2023.7.22)\n",
      "Requirement already satisfied: MarkupSafe>=2.1.1 in c:\\users\\dognellaf\\appdata\\local\\programs\\python\\python311\\lib\\site-packages (from werkzeug>=1.0.1->tensorboard<2.15,>=2.14->tensorflow-intel==2.14.0->tensorflow->-r requirements.txt (line 2)) (2.1.3)\n",
      "Requirement already satisfied: pyasn1<0.6.0,>=0.4.6 in c:\\users\\dognellaf\\appdata\\local\\programs\\python\\python311\\lib\\site-packages (from pyasn1-modules>=0.2.1->google-auth<3,>=1.6.3->tensorboard<2.15,>=2.14->tensorflow-intel==2.14.0->tensorflow->-r requirements.txt (line 2)) (0.5.0)\n",
      "Requirement already satisfied: oauthlib>=3.0.0 in c:\\users\\dognellaf\\appdata\\local\\programs\\python\\python311\\lib\\site-packages (from requests-oauthlib>=0.7.0->google-auth-oauthlib<1.1,>=0.5->tensorboard<2.15,>=2.14->tensorflow-intel==2.14.0->tensorflow->-r requirements.txt (line 2)) (3.2.2)\n",
      "Note: you may need to restart the kernel to use updated packages.\n"
     ]
    },
    {
     "name": "stderr",
     "output_type": "stream",
     "text": [
      "\n",
      "[notice] A new release of pip is available: 23.1.2 -> 23.3.1\n",
      "[notice] To update, run: python.exe -m pip install --upgrade pip\n"
     ]
    }
   ],
   "source": [
    "pip install -r requirements.txt"
   ]
  },
  {
   "cell_type": "code",
   "execution_count": 2,
   "metadata": {},
   "outputs": [],
   "source": [
    "import numpy as np\n",
    "import pickle\n",
    "\n",
    "import tensorflow as tf\n",
    "from keras import layers, models\n",
    "from keras.datasets import cifar100\n",
    "from keras.utils import to_categorical\n",
    "from keras.models import Sequential\n",
    "from keras.layers import Conv2D, MaxPooling2D, Flatten, Dense"
   ]
  },
  {
   "cell_type": "markdown",
   "metadata": {},
   "source": [
    "### Загрузка данных"
   ]
  },
  {
   "cell_type": "code",
   "execution_count": 3,
   "metadata": {},
   "outputs": [
    {
     "name": "stdout",
     "output_type": "stream",
     "text": [
      "[[1.         0.9882353  0.99215686 ... 0.6784314  0.90588236 0.972549  ]\n",
      " [0.49803922 0.49411765 0.49803922 ... 0.4        0.42352942 0.4392157 ]\n",
      " [0.45490196 0.2509804  0.07450981 ... 0.02745098 0.02352941 0.01960784]\n",
      " ...\n",
      " [0.13725491 0.15686275 0.16470589 ... 0.3019608  0.25882354 0.19607843]\n",
      " [0.7411765  0.7294118  0.7254902  ... 0.6627451  0.67058825 0.67058825]\n",
      " [0.8980392  0.9254902  0.91764706 ... 0.6784314  0.63529414 0.6313726 ]]\n",
      "[1 8 5 ... 9 1 1]\n",
      "\n",
      "[[0.61960787 0.62352943 0.64705884 ... 0.4862745  0.5058824  0.43137255]\n",
      " [0.92156863 0.90588236 0.9098039  ... 0.69803923 0.7490196  0.78039217]\n",
      " [0.61960787 0.61960787 0.54509807 ... 0.03137255 0.01176471 0.02745098]\n",
      " ...\n",
      " [0.07843138 0.07450981 0.05882353 ... 0.19607843 0.20784314 0.18431373]\n",
      " [0.09803922 0.05882353 0.09019608 ... 0.3137255  0.31764707 0.3137255 ]\n",
      " [0.28627452 0.38431373 0.3882353  ... 0.36862746 0.22745098 0.10196079]]\n",
      "[3 8 8 ... 5 1 7]\n"
     ]
    }
   ],
   "source": [
    "def load_cifar10_data():\n",
    "    train_data = {}\n",
    "    for i in range(1, 6):\n",
    "        with open(f'cifar-10-batches-py/data_batch_{i}', 'rb') as f:\n",
    "            new_data = pickle.load(f, encoding='bytes')\n",
    "            train_data = dict(list(train_data.items()) + list(new_data.items()))\n",
    "    \n",
    "    X_train = np.array(train_data[b'data'], dtype=np.float32) / 255.0\n",
    "    y_train = np.array(train_data[b'labels'])\n",
    "    \n",
    "    with open(f'cifar-10-batches-py/test_batch', 'rb') as f:\n",
    "        test_data = pickle.load(f, encoding='bytes')\n",
    "    \n",
    "    # Preprocess data\n",
    "    X_test = np.array(test_data[b'data'], dtype=np.float32) / 255.0  # Normalize pixel values and change data type to float32\n",
    "    y_test = np.array(test_data[b'labels'])\n",
    "\n",
    "    return (X_train, y_train), (X_test, y_test)\n",
    "\n",
    "(X_train, y_train), (X_test, y_test) = load_cifar10_data()\n",
    "print(X_train)\n",
    "print(y_train)\n",
    "print()\n",
    "print(X_test)\n",
    "print(y_test)"
   ]
  },
  {
   "cell_type": "markdown",
   "metadata": {},
   "source": [
    "### 1. Объясните, какие элементы вашей сети зависят от количества цветов, какие — от количества классов"
   ]
  },
  {
   "cell_type": "markdown",
   "metadata": {},
   "source": [
    "Элементы сети, зависящие от количества цветов:\n",
    "1. количество нейронов во входном слое;\n",
    "2. количество весов;\n",
    "3. количество связей.\n",
    "\n",
    "Элементы сети, зависящие от количества классов для датасета CIFAR-10:\n",
    "1. также количество нейронов в выходном слое;\n",
    "2. функция активации."
   ]
  },
  {
   "cell_type": "markdown",
   "metadata": {},
   "source": [
    "### 2. Обучить модель. Объяснить место в модели каждого слоя, обосновать выбор гиперпараметров"
   ]
  },
  {
   "cell_type": "markdown",
   "metadata": {},
   "source": [
    "Всего слоя в моей сети четыре:\n",
    "1. Входной слой - 64 нейрона\n",
    "2. Скрытые слои - 256 и 64 нейрона\n",
    "3. Выходной слой - 10 нейронов (совпадает с количеством слоев)\n",
    "\n",
    "Количество нейронов во всех слоях, кроме выходного, получено эмпирически, изначально взял 1024 (32х32), но обратил внимание, что финальное значение accuracy не менялось при уменьшии количества входных нейронов, а скорость возрастала многократно "
   ]
  },
  {
   "cell_type": "code",
   "execution_count": 4,
   "metadata": {},
   "outputs": [
    {
     "name": "stdout",
     "output_type": "stream",
     "text": [
      "Epoch 1/10\n"
     ]
    },
    {
     "ename": "ValueError",
     "evalue": "in user code:\n\n    File \"c:\\Users\\DogNellaf\\AppData\\Local\\Programs\\Python\\Python311\\Lib\\site-packages\\keras\\src\\engine\\training.py\", line 1377, in train_function  *\n        return step_function(self, iterator)\n    File \"c:\\Users\\DogNellaf\\AppData\\Local\\Programs\\Python\\Python311\\Lib\\site-packages\\keras\\src\\engine\\training.py\", line 1360, in step_function  **\n        outputs = model.distribute_strategy.run(run_step, args=(data,))\n    File \"c:\\Users\\DogNellaf\\AppData\\Local\\Programs\\Python\\Python311\\Lib\\site-packages\\keras\\src\\engine\\training.py\", line 1349, in run_step  **\n        outputs = model.train_step(data)\n    File \"c:\\Users\\DogNellaf\\AppData\\Local\\Programs\\Python\\Python311\\Lib\\site-packages\\keras\\src\\engine\\training.py\", line 1126, in train_step\n        y_pred = self(x, training=True)\n    File \"c:\\Users\\DogNellaf\\AppData\\Local\\Programs\\Python\\Python311\\Lib\\site-packages\\keras\\src\\utils\\traceback_utils.py\", line 70, in error_handler\n        raise e.with_traceback(filtered_tb) from None\n    File \"c:\\Users\\DogNellaf\\AppData\\Local\\Programs\\Python\\Python311\\Lib\\site-packages\\keras\\src\\engine\\input_spec.py\", line 298, in assert_input_compatibility\n        raise ValueError(\n\n    ValueError: Input 0 of layer \"sequential\" is incompatible with the layer: expected shape=(None, 32, 32, 3), found shape=(None, 3072)\n",
     "output_type": "error",
     "traceback": [
      "\u001b[1;31m---------------------------------------------------------------------------\u001b[0m",
      "\u001b[1;31mValueError\u001b[0m                                Traceback (most recent call last)",
      "\u001b[1;32md:\\Share\\ДЗ 8 (итоговая аттестация)\\answer.ipynb Cell 10\u001b[0m line \u001b[0;36m1\n\u001b[0;32m      <a href='vscode-notebook-cell:/d%3A/Share/%D0%94%D0%97%208%20%28%D0%B8%D1%82%D0%BE%D0%B3%D0%BE%D0%B2%D0%B0%D1%8F%20%D0%B0%D1%82%D1%82%D0%B5%D1%81%D1%82%D0%B0%D1%86%D0%B8%D1%8F%29/answer.ipynb#X12sZmlsZQ%3D%3D?line=1'>2</a>\u001b[0m model \u001b[39m=\u001b[39m Sequential([\n\u001b[0;32m      <a href='vscode-notebook-cell:/d%3A/Share/%D0%94%D0%97%208%20%28%D0%B8%D1%82%D0%BE%D0%B3%D0%BE%D0%B2%D0%B0%D1%8F%20%D0%B0%D1%82%D1%82%D0%B5%D1%81%D1%82%D0%B0%D1%86%D0%B8%D1%8F%29/answer.ipynb#X12sZmlsZQ%3D%3D?line=2'>3</a>\u001b[0m     Conv2D(\u001b[39m32\u001b[39m, (\u001b[39m3\u001b[39m, \u001b[39m3\u001b[39m), activation\u001b[39m=\u001b[39m\u001b[39m'\u001b[39m\u001b[39mrelu\u001b[39m\u001b[39m'\u001b[39m, input_shape\u001b[39m=\u001b[39m(\u001b[39m32\u001b[39m, \u001b[39m32\u001b[39m, \u001b[39m3\u001b[39m)),\n\u001b[0;32m      <a href='vscode-notebook-cell:/d%3A/Share/%D0%94%D0%97%208%20%28%D0%B8%D1%82%D0%BE%D0%B3%D0%BE%D0%B2%D0%B0%D1%8F%20%D0%B0%D1%82%D1%82%D0%B5%D1%81%D1%82%D0%B0%D1%86%D0%B8%D1%8F%29/answer.ipynb#X12sZmlsZQ%3D%3D?line=3'>4</a>\u001b[0m     MaxPooling2D((\u001b[39m2\u001b[39m, \u001b[39m2\u001b[39m)),\n\u001b[0;32m      <a href='vscode-notebook-cell:/d%3A/Share/%D0%94%D0%97%208%20%28%D0%B8%D1%82%D0%BE%D0%B3%D0%BE%D0%B2%D0%B0%D1%8F%20%D0%B0%D1%82%D1%82%D0%B5%D1%81%D1%82%D0%B0%D1%86%D0%B8%D1%8F%29/answer.ipynb#X12sZmlsZQ%3D%3D?line=4'>5</a>\u001b[0m     Flatten(),\n\u001b[0;32m      <a href='vscode-notebook-cell:/d%3A/Share/%D0%94%D0%97%208%20%28%D0%B8%D1%82%D0%BE%D0%B3%D0%BE%D0%B2%D0%B0%D1%8F%20%D0%B0%D1%82%D1%82%D0%B5%D1%81%D1%82%D0%B0%D1%86%D0%B8%D1%8F%29/answer.ipynb#X12sZmlsZQ%3D%3D?line=5'>6</a>\u001b[0m     Dense(\u001b[39m10\u001b[39m, activation\u001b[39m=\u001b[39m\u001b[39m'\u001b[39m\u001b[39msoftmax\u001b[39m\u001b[39m'\u001b[39m)\n\u001b[0;32m      <a href='vscode-notebook-cell:/d%3A/Share/%D0%94%D0%97%208%20%28%D0%B8%D1%82%D0%BE%D0%B3%D0%BE%D0%B2%D0%B0%D1%8F%20%D0%B0%D1%82%D1%82%D0%B5%D1%81%D1%82%D0%B0%D1%86%D0%B8%D1%8F%29/answer.ipynb#X12sZmlsZQ%3D%3D?line=6'>7</a>\u001b[0m ])\n\u001b[0;32m      <a href='vscode-notebook-cell:/d%3A/Share/%D0%94%D0%97%208%20%28%D0%B8%D1%82%D0%BE%D0%B3%D0%BE%D0%B2%D0%B0%D1%8F%20%D0%B0%D1%82%D1%82%D0%B5%D1%81%D1%82%D0%B0%D1%86%D0%B8%D1%8F%29/answer.ipynb#X12sZmlsZQ%3D%3D?line=7'>8</a>\u001b[0m model\u001b[39m.\u001b[39mcompile(optimizer\u001b[39m=\u001b[39m\u001b[39m'\u001b[39m\u001b[39madam\u001b[39m\u001b[39m'\u001b[39m,\n\u001b[0;32m      <a href='vscode-notebook-cell:/d%3A/Share/%D0%94%D0%97%208%20%28%D0%B8%D1%82%D0%BE%D0%B3%D0%BE%D0%B2%D0%B0%D1%8F%20%D0%B0%D1%82%D1%82%D0%B5%D1%81%D1%82%D0%B0%D1%86%D0%B8%D1%8F%29/answer.ipynb#X12sZmlsZQ%3D%3D?line=8'>9</a>\u001b[0m               loss\u001b[39m=\u001b[39m\u001b[39m'\u001b[39m\u001b[39msparse_categorical_crossentropy\u001b[39m\u001b[39m'\u001b[39m,\n\u001b[0;32m     <a href='vscode-notebook-cell:/d%3A/Share/%D0%94%D0%97%208%20%28%D0%B8%D1%82%D0%BE%D0%B3%D0%BE%D0%B2%D0%B0%D1%8F%20%D0%B0%D1%82%D1%82%D0%B5%D1%81%D1%82%D0%B0%D1%86%D0%B8%D1%8F%29/answer.ipynb#X12sZmlsZQ%3D%3D?line=9'>10</a>\u001b[0m               metrics\u001b[39m=\u001b[39m[\u001b[39m'\u001b[39m\u001b[39maccuracy\u001b[39m\u001b[39m'\u001b[39m])\n\u001b[1;32m---> <a href='vscode-notebook-cell:/d%3A/Share/%D0%94%D0%97%208%20%28%D0%B8%D1%82%D0%BE%D0%B3%D0%BE%D0%B2%D0%B0%D1%8F%20%D0%B0%D1%82%D1%82%D0%B5%D1%81%D1%82%D0%B0%D1%86%D0%B8%D1%8F%29/answer.ipynb#X12sZmlsZQ%3D%3D?line=10'>11</a>\u001b[0m model\u001b[39m.\u001b[39;49mfit(X_train, y_train, epochs\u001b[39m=\u001b[39;49m\u001b[39m10\u001b[39;49m)\n\u001b[0;32m     <a href='vscode-notebook-cell:/d%3A/Share/%D0%94%D0%97%208%20%28%D0%B8%D1%82%D0%BE%D0%B3%D0%BE%D0%B2%D0%B0%D1%8F%20%D0%B0%D1%82%D1%82%D0%B5%D1%81%D1%82%D0%B0%D1%86%D0%B8%D1%8F%29/answer.ipynb#X12sZmlsZQ%3D%3D?line=12'>13</a>\u001b[0m \u001b[39m# Оценка качества модели\u001b[39;00m\n\u001b[0;32m     <a href='vscode-notebook-cell:/d%3A/Share/%D0%94%D0%97%208%20%28%D0%B8%D1%82%D0%BE%D0%B3%D0%BE%D0%B2%D0%B0%D1%8F%20%D0%B0%D1%82%D1%82%D0%B5%D1%81%D1%82%D0%B0%D1%86%D0%B8%D1%8F%29/answer.ipynb#X12sZmlsZQ%3D%3D?line=13'>14</a>\u001b[0m test_loss, test_accuracy \u001b[39m=\u001b[39m model\u001b[39m.\u001b[39mevaluate(X_test, y_test)\n",
      "File \u001b[1;32mc:\\Users\\DogNellaf\\AppData\\Local\\Programs\\Python\\Python311\\Lib\\site-packages\\keras\\src\\utils\\traceback_utils.py:70\u001b[0m, in \u001b[0;36mfilter_traceback.<locals>.error_handler\u001b[1;34m(*args, **kwargs)\u001b[0m\n\u001b[0;32m     67\u001b[0m     filtered_tb \u001b[39m=\u001b[39m _process_traceback_frames(e\u001b[39m.\u001b[39m__traceback__)\n\u001b[0;32m     68\u001b[0m     \u001b[39m# To get the full stack trace, call:\u001b[39;00m\n\u001b[0;32m     69\u001b[0m     \u001b[39m# `tf.debugging.disable_traceback_filtering()`\u001b[39;00m\n\u001b[1;32m---> 70\u001b[0m     \u001b[39mraise\u001b[39;00m e\u001b[39m.\u001b[39mwith_traceback(filtered_tb) \u001b[39mfrom\u001b[39;00m \u001b[39mNone\u001b[39;00m\n\u001b[0;32m     71\u001b[0m \u001b[39mfinally\u001b[39;00m:\n\u001b[0;32m     72\u001b[0m     \u001b[39mdel\u001b[39;00m filtered_tb\n",
      "File \u001b[1;32mC:\\Users\\DOGNEL~1\\AppData\\Local\\Temp\\__autograph_generated_fileq2umi017.py:15\u001b[0m, in \u001b[0;36mouter_factory.<locals>.inner_factory.<locals>.tf__train_function\u001b[1;34m(iterator)\u001b[0m\n\u001b[0;32m     13\u001b[0m \u001b[39mtry\u001b[39;00m:\n\u001b[0;32m     14\u001b[0m     do_return \u001b[39m=\u001b[39m \u001b[39mTrue\u001b[39;00m\n\u001b[1;32m---> 15\u001b[0m     retval_ \u001b[39m=\u001b[39m ag__\u001b[39m.\u001b[39mconverted_call(ag__\u001b[39m.\u001b[39mld(step_function), (ag__\u001b[39m.\u001b[39mld(\u001b[39mself\u001b[39m), ag__\u001b[39m.\u001b[39mld(iterator)), \u001b[39mNone\u001b[39;00m, fscope)\n\u001b[0;32m     16\u001b[0m \u001b[39mexcept\u001b[39;00m:\n\u001b[0;32m     17\u001b[0m     do_return \u001b[39m=\u001b[39m \u001b[39mFalse\u001b[39;00m\n",
      "\u001b[1;31mValueError\u001b[0m: in user code:\n\n    File \"c:\\Users\\DogNellaf\\AppData\\Local\\Programs\\Python\\Python311\\Lib\\site-packages\\keras\\src\\engine\\training.py\", line 1377, in train_function  *\n        return step_function(self, iterator)\n    File \"c:\\Users\\DogNellaf\\AppData\\Local\\Programs\\Python\\Python311\\Lib\\site-packages\\keras\\src\\engine\\training.py\", line 1360, in step_function  **\n        outputs = model.distribute_strategy.run(run_step, args=(data,))\n    File \"c:\\Users\\DogNellaf\\AppData\\Local\\Programs\\Python\\Python311\\Lib\\site-packages\\keras\\src\\engine\\training.py\", line 1349, in run_step  **\n        outputs = model.train_step(data)\n    File \"c:\\Users\\DogNellaf\\AppData\\Local\\Programs\\Python\\Python311\\Lib\\site-packages\\keras\\src\\engine\\training.py\", line 1126, in train_step\n        y_pred = self(x, training=True)\n    File \"c:\\Users\\DogNellaf\\AppData\\Local\\Programs\\Python\\Python311\\Lib\\site-packages\\keras\\src\\utils\\traceback_utils.py\", line 70, in error_handler\n        raise e.with_traceback(filtered_tb) from None\n    File \"c:\\Users\\DogNellaf\\AppData\\Local\\Programs\\Python\\Python311\\Lib\\site-packages\\keras\\src\\engine\\input_spec.py\", line 298, in assert_input_compatibility\n        raise ValueError(\n\n    ValueError: Input 0 of layer \"sequential\" is incompatible with the layer: expected shape=(None, 32, 32, 3), found shape=(None, 3072)\n"
     ]
    }
   ],
   "source": [
    "# Обучение модели\n",
    "model = models.Sequential([\n",
    "    layers.Dense(64, activation='relu', input_shape=(X_train.shape[1],)),\n",
    "    layers.Dense(256, activation='relu'),\n",
    "    layers.Dense(64, activation='relu'),\n",
    "    layers.Dense(10, activation='softmax')\n",
    "])\n",
    "model.compile(optimizer='adam',\n",
    "              loss='sparse_categorical_crossentropy',\n",
    "              metrics=['accuracy'])\n",
    "model.fit(X_train, y_train, epochs=10)\n",
    "\n",
    "# Оценка качества модели\n",
    "test_loss, test_accuracy = model.evaluate(X_test, y_test)\n",
    "print(\"Test accuracy:\", test_accuracy)"
   ]
  },
  {
   "cell_type": "markdown",
   "metadata": {},
   "source": [
    "### 3. Сравнить качество предсказания при обучении на 20 широких классах с предсказаниями при обучении на 100 узких классах, обобщив предсказания по узким меткам до метки их широкого класса в соответствии с таблицей"
   ]
  },
  {
   "cell_type": "code",
   "execution_count": 35,
   "metadata": {},
   "outputs": [
    {
     "name": "stdout",
     "output_type": "stream",
     "text": [
      "1563/1563 [==============================] - 34s 21ms/step - loss: 2.3216 - accuracy: 0.3022\n",
      "313/313 [==============================] - 2s 6ms/step - loss: 2.1223 - accuracy: 0.3581\n",
      "1563/1563 [==============================] - 31s 19ms/step - loss: 3.4443 - accuracy: 0.2043\n",
      "313/313 [==============================] - 2s 6ms/step - loss: 3.0434 - accuracy: 0.2787\n",
      "Accuracy на 100 точных классах: 0.27869999408721924\n",
      "Accuracy на 20 грубых классах: 0.3580999970436096\n",
      "Предсказание на основе 20 грубых классов оказалось точнее\n"
     ]
    }
   ],
   "source": [
    "import tensorflow as tf\n",
    "from keras.datasets import cifar100\n",
    "from keras.utils import to_categorical\n",
    "from keras.models import Sequential\n",
    "from keras.layers import Conv2D, MaxPooling2D, Flatten, Dense\n",
    "\n",
    "EPOCH_COUNT = 1\n",
    "\n",
    "def get_data(label_mode: str):\n",
    "    (x_train, y_train), (x_test, y_test) = cifar100.load_data(label_mode=label_mode)\n",
    "\n",
    "    x_train = x_train / 255.0\n",
    "    x_test = x_test / 255.0\n",
    "    y_train = to_categorical(y_train, 100)\n",
    "    y_test = to_categorical(y_test, 100)\n",
    "\n",
    "    return (x_train, y_train), (x_test, y_test)\n",
    "\n",
    "def get_params_by_model(label_mode: str):\n",
    "    (X_train, y_train), (X_test, y_test) = get_data(label_mode)\n",
    "    model = Sequential([\n",
    "        Conv2D(32, (3, 3), activation='relu', input_shape=(32, 32, 3)),\n",
    "        MaxPooling2D((2, 2)),\n",
    "        Flatten(),\n",
    "        Dense(100, activation='softmax')\n",
    "    ])\n",
    "    model.compile(optimizer='adam', loss='categorical_crossentropy', metrics=['accuracy'])\n",
    "    model.fit(X_train, y_train, epochs=EPOCH_COUNT)\n",
    "    return model.evaluate(X_test, y_test)\n",
    "\n",
    "accuracy_coarse = get_params_by_model('coarse')[1]\n",
    "accuracy_fine = get_params_by_model('fine')[1]\n",
    "\n",
    "print(\"Accuracy на 100 точных классах:\", accuracy_fine)\n",
    "print(\"Accuracy на 20 грубых классах:\", accuracy_coarse)\n",
    "\n",
    "if accuracy_fine > accuracy_coarse:\n",
    "    print(\"Предсказание на основе 100 точных классов оказалось точнее\")\n",
    "else:\n",
    "    print(\"Предсказание на основе 20 грубых классов оказалось точнее\")"
   ]
  },
  {
   "cell_type": "markdown",
   "metadata": {},
   "source": [
    "### 4. Исследовать с помощью графиков метрики предсказания для каких узких классов более всего отличаются от метрик их более широких классов. Выдвинуть предположение о причине возможного отличия"
   ]
  },
  {
   "cell_type": "code",
   "execution_count": 31,
   "metadata": {},
   "outputs": [
    {
     "name": "stdout",
     "output_type": "stream",
     "text": [
      "782/782 [==============================] - 33s 39ms/step - loss: 4.2457 - accuracy: 0.0912 - val_loss: 3.6419 - val_accuracy: 0.1485\n",
      "313/313 [==============================] - 2s 7ms/step\n"
     ]
    },
    {
     "name": "stderr",
     "output_type": "stream",
     "text": [
      "c:\\Users\\DogNellaf\\AppData\\Local\\Programs\\Python\\Python311\\Lib\\site-packages\\sklearn\\metrics\\_classification.py:1471: UndefinedMetricWarning: Precision and F-score are ill-defined and being set to 0.0 in labels with no predicted samples. Use `zero_division` parameter to control this behavior.\n",
      "  _warn_prf(average, modifier, msg_start, len(result))\n",
      "c:\\Users\\DogNellaf\\AppData\\Local\\Programs\\Python\\Python311\\Lib\\site-packages\\sklearn\\metrics\\_classification.py:1471: UndefinedMetricWarning: Precision and F-score are ill-defined and being set to 0.0 in labels with no predicted samples. Use `zero_division` parameter to control this behavior.\n",
      "  _warn_prf(average, modifier, msg_start, len(result))\n",
      "c:\\Users\\DogNellaf\\AppData\\Local\\Programs\\Python\\Python311\\Lib\\site-packages\\sklearn\\metrics\\_classification.py:1471: UndefinedMetricWarning: Precision and F-score are ill-defined and being set to 0.0 in labels with no predicted samples. Use `zero_division` parameter to control this behavior.\n",
      "  _warn_prf(average, modifier, msg_start, len(result))\n"
     ]
    },
    {
     "ename": "TypeError",
     "evalue": "string indices must be integers, not 'str'",
     "output_type": "error",
     "traceback": [
      "\u001b[1;31m---------------------------------------------------------------------------\u001b[0m",
      "\u001b[1;31mTypeError\u001b[0m                                 Traceback (most recent call last)",
      "\u001b[1;32md:\\Share\\ДЗ 8 (итоговая аттестация)\\answer.ipynb Cell 14\u001b[0m line \u001b[0;36m4\n\u001b[0;32m     <a href='vscode-notebook-cell:/d%3A/Share/%D0%94%D0%97%208%20%28%D0%B8%D1%82%D0%BE%D0%B3%D0%BE%D0%B2%D0%B0%D1%8F%20%D0%B0%D1%82%D1%82%D0%B5%D1%81%D1%82%D0%B0%D1%86%D0%B8%D1%8F%29/answer.ipynb#X16sZmlsZQ%3D%3D?line=40'>41</a>\u001b[0m narrow_classes \u001b[39m=\u001b[39m [\u001b[39m5\u001b[39m, \u001b[39m15\u001b[39m, \u001b[39m25\u001b[39m]  \u001b[39m# Пример узких классов\u001b[39;00m\n\u001b[0;32m     <a href='vscode-notebook-cell:/d%3A/Share/%D0%94%D0%97%208%20%28%D0%B8%D1%82%D0%BE%D0%B3%D0%BE%D0%B2%D0%B0%D1%8F%20%D0%B0%D1%82%D1%82%D0%B5%D1%81%D1%82%D0%B0%D1%86%D0%B8%D1%8F%29/answer.ipynb#X16sZmlsZQ%3D%3D?line=41'>42</a>\u001b[0m broad_classes \u001b[39m=\u001b[39m [\u001b[39m1\u001b[39m, \u001b[39m10\u001b[39m, \u001b[39m50\u001b[39m]  \u001b[39m# Пример более широких классов\u001b[39;00m\n\u001b[1;32m---> <a href='vscode-notebook-cell:/d%3A/Share/%D0%94%D0%97%208%20%28%D0%B8%D1%82%D0%BE%D0%B3%D0%BE%D0%B2%D0%B0%D1%8F%20%D0%B0%D1%82%D1%82%D0%B5%D1%81%D1%82%D0%B0%D1%86%D0%B8%D1%8F%29/answer.ipynb#X16sZmlsZQ%3D%3D?line=43'>44</a>\u001b[0m narrow_precision \u001b[39m=\u001b[39m [report[\u001b[39m'\u001b[39;49m\u001b[39mprecision\u001b[39;49m\u001b[39m'\u001b[39;49m][i] \u001b[39mfor\u001b[39;49;00m i \u001b[39min\u001b[39;49;00m narrow_classes]\n\u001b[0;32m     <a href='vscode-notebook-cell:/d%3A/Share/%D0%94%D0%97%208%20%28%D0%B8%D1%82%D0%BE%D0%B3%D0%BE%D0%B2%D0%B0%D1%8F%20%D0%B0%D1%82%D1%82%D0%B5%D1%81%D1%82%D0%B0%D1%86%D0%B8%D1%8F%29/answer.ipynb#X16sZmlsZQ%3D%3D?line=44'>45</a>\u001b[0m broad_precision \u001b[39m=\u001b[39m [report[\u001b[39m'\u001b[39m\u001b[39mprecision\u001b[39m\u001b[39m'\u001b[39m][i] \u001b[39mfor\u001b[39;00m i \u001b[39min\u001b[39;00m broad_classes]\n\u001b[0;32m     <a href='vscode-notebook-cell:/d%3A/Share/%D0%94%D0%97%208%20%28%D0%B8%D1%82%D0%BE%D0%B3%D0%BE%D0%B2%D0%B0%D1%8F%20%D0%B0%D1%82%D1%82%D0%B5%D1%81%D1%82%D0%B0%D1%86%D0%B8%D1%8F%29/answer.ipynb#X16sZmlsZQ%3D%3D?line=46'>47</a>\u001b[0m narrow_recall \u001b[39m=\u001b[39m [report[\u001b[39m'\u001b[39m\u001b[39mrecall\u001b[39m\u001b[39m'\u001b[39m][i] \u001b[39mfor\u001b[39;00m i \u001b[39min\u001b[39;00m narrow_classes]\n",
      "\u001b[1;32md:\\Share\\ДЗ 8 (итоговая аттестация)\\answer.ipynb Cell 14\u001b[0m line \u001b[0;36m4\n\u001b[0;32m     <a href='vscode-notebook-cell:/d%3A/Share/%D0%94%D0%97%208%20%28%D0%B8%D1%82%D0%BE%D0%B3%D0%BE%D0%B2%D0%B0%D1%8F%20%D0%B0%D1%82%D1%82%D0%B5%D1%81%D1%82%D0%B0%D1%86%D0%B8%D1%8F%29/answer.ipynb#X16sZmlsZQ%3D%3D?line=40'>41</a>\u001b[0m narrow_classes \u001b[39m=\u001b[39m [\u001b[39m5\u001b[39m, \u001b[39m15\u001b[39m, \u001b[39m25\u001b[39m]  \u001b[39m# Пример узких классов\u001b[39;00m\n\u001b[0;32m     <a href='vscode-notebook-cell:/d%3A/Share/%D0%94%D0%97%208%20%28%D0%B8%D1%82%D0%BE%D0%B3%D0%BE%D0%B2%D0%B0%D1%8F%20%D0%B0%D1%82%D1%82%D0%B5%D1%81%D1%82%D0%B0%D1%86%D0%B8%D1%8F%29/answer.ipynb#X16sZmlsZQ%3D%3D?line=41'>42</a>\u001b[0m broad_classes \u001b[39m=\u001b[39m [\u001b[39m1\u001b[39m, \u001b[39m10\u001b[39m, \u001b[39m50\u001b[39m]  \u001b[39m# Пример более широких классов\u001b[39;00m\n\u001b[1;32m---> <a href='vscode-notebook-cell:/d%3A/Share/%D0%94%D0%97%208%20%28%D0%B8%D1%82%D0%BE%D0%B3%D0%BE%D0%B2%D0%B0%D1%8F%20%D0%B0%D1%82%D1%82%D0%B5%D1%81%D1%82%D0%B0%D1%86%D0%B8%D1%8F%29/answer.ipynb#X16sZmlsZQ%3D%3D?line=43'>44</a>\u001b[0m narrow_precision \u001b[39m=\u001b[39m [report[\u001b[39m'\u001b[39;49m\u001b[39mprecision\u001b[39;49m\u001b[39m'\u001b[39;49m][i] \u001b[39mfor\u001b[39;00m i \u001b[39min\u001b[39;00m narrow_classes]\n\u001b[0;32m     <a href='vscode-notebook-cell:/d%3A/Share/%D0%94%D0%97%208%20%28%D0%B8%D1%82%D0%BE%D0%B3%D0%BE%D0%B2%D0%B0%D1%8F%20%D0%B0%D1%82%D1%82%D0%B5%D1%81%D1%82%D0%B0%D1%86%D0%B8%D1%8F%29/answer.ipynb#X16sZmlsZQ%3D%3D?line=44'>45</a>\u001b[0m broad_precision \u001b[39m=\u001b[39m [report[\u001b[39m'\u001b[39m\u001b[39mprecision\u001b[39m\u001b[39m'\u001b[39m][i] \u001b[39mfor\u001b[39;00m i \u001b[39min\u001b[39;00m broad_classes]\n\u001b[0;32m     <a href='vscode-notebook-cell:/d%3A/Share/%D0%94%D0%97%208%20%28%D0%B8%D1%82%D0%BE%D0%B3%D0%BE%D0%B2%D0%B0%D1%8F%20%D0%B0%D1%82%D1%82%D0%B5%D1%81%D1%82%D0%B0%D1%86%D0%B8%D1%8F%29/answer.ipynb#X16sZmlsZQ%3D%3D?line=46'>47</a>\u001b[0m narrow_recall \u001b[39m=\u001b[39m [report[\u001b[39m'\u001b[39m\u001b[39mrecall\u001b[39m\u001b[39m'\u001b[39m][i] \u001b[39mfor\u001b[39;00m i \u001b[39min\u001b[39;00m narrow_classes]\n",
      "\u001b[1;31mTypeError\u001b[0m: string indices must be integers, not 'str'"
     ]
    }
   ],
   "source": [
    "import matplotlib.pyplot as plt\n",
    "import numpy as np\n",
    "from sklearn.metrics import classification_report\n",
    "from keras.datasets import cifar100\n",
    "from keras.utils import to_categorical\n",
    "from keras.models import Sequential\n",
    "from keras.layers import Dense, Flatten, Conv2D, MaxPooling2D\n",
    "\n",
    "# Загрузка данных\n",
    "(x_train, y_train), (x_test, y_test) = cifar100.load_data()\n",
    "y_train = to_categorical(y_train, 100)\n",
    "y_test = to_categorical(y_test, 100)\n",
    "\n",
    "# Создание модели нейронной сети\n",
    "model = Sequential()\n",
    "model.add(Conv2D(32, (3, 3), activation='relu', input_shape=(32, 32, 3)))\n",
    "model.add(MaxPooling2D((2, 2)))\n",
    "model.add(Conv2D(64, (3, 3), activation='relu'))\n",
    "model.add(MaxPooling2D((2, 2)))\n",
    "model.add(Conv2D(128, (3, 3), activation='relu'))\n",
    "model.add(MaxPooling2D((2, 2)))\n",
    "model.add(Flatten())\n",
    "model.add(Dense(128, activation='relu'))\n",
    "model.add(Dense(100, activation='softmax'))\n",
    "\n",
    "# Компиляция модели\n",
    "model.compile(optimizer='adam', loss='categorical_crossentropy', metrics=['accuracy'])\n",
    "\n",
    "# Обучение модели\n",
    "model.fit(x_train, y_train, epochs=1, batch_size=64, validation_data=(x_test, y_test))\n",
    "\n",
    "# Предсказание классов для тестовых данных\n",
    "y_pred = model.predict(x_test)\n",
    "y_pred_classes = np.argmax(y_pred, axis=1)\n",
    "y_true = np.argmax(y_test, axis=1)\n",
    "\n",
    "# Генерация отчета о классификации\n",
    "report = classification_report(y_true, y_pred_classes)\n",
    "\n",
    "# Визуализация метрик для узких и более широких классов\n",
    "narrow_classes = [5, 15, 25]  # Пример узких классов\n",
    "broad_classes = [1, 10, 50]  # Пример более широких классов\n",
    "\n",
    "narrow_precision = [report['precision'][i] for i in narrow_classes]\n",
    "broad_precision = [report['precision'][i] for i in broad_classes]\n",
    "\n",
    "narrow_recall = [report['recall'][i] for i in narrow_classes]\n",
    "broad_recall = [report['recall'][i] for i in broad_classes]\n",
    "\n",
    "narrow_f1 = [report['f1-score'][i] for i in narrow_classes]\n",
    "broad_f1 = [report['f1-score'][i] for i in broad_classes]\n",
    "\n",
    "plt.figure(figsize=(10, 5))\n",
    "plt.subplot(1, 3, 1)\n",
    "plt.bar(np.arange(len(narrow_classes)), narrow_precision, width=0.4, label='Narrow Classes')\n",
    "plt.bar(np.arange(len(broad_classes)) + 0.4, broad_precision, width=0.4, label='Broad Classes')\n",
    "plt.xticks(np.arange(len(narrow_classes) + len(broad_classes)), narrow_classes + broad_classes)\n",
    "plt.xlabel('Class')\n",
    "plt.ylabel('Precision')\n",
    "plt.legend()\n",
    "\n",
    "plt.subplot(1, 3, 2)\n",
    "plt.bar(np.arange(len(narrow_classes)), narrow_recall, width=0.4, label='Narrow Classes')\n",
    "plt.bar(np.arange(len(broad_classes)) + 0.4, broad_recall, width=0.4, label='Broad Classes')\n",
    "plt.xticks(np.arange(len(narrow_classes) + len(broad_classes)), narrow_classes + broad_classes)\n",
    "plt.xlabel('Class')\n",
    "plt.ylabel('Recall')\n",
    "plt.legend()\n",
    "\n",
    "plt.subplot(1, 3, 3)\n",
    "plt.bar(np.arange(len(narrow_classes)), narrow_f1, width=0.4, label='Narrow Classes')\n",
    "plt.bar(np.arange(len(broad_classes)) + 0.4, broad_f1, width=0.4, label='Broad Classes')\n",
    "plt.xticks(np.arange(len(narrow_classes) + len(broad_classes)), narrow_classes + broad_classes)\n",
    "plt.xlabel('Class')\n",
    "plt.ylabel('F1-Score')\n",
    "plt.legend()\n",
    "\n",
    "plt.show()"
   ]
  }
 ],
 "metadata": {
  "kernelspec": {
   "display_name": "Python 3",
   "language": "python",
   "name": "python3"
  },
  "language_info": {
   "codemirror_mode": {
    "name": "ipython",
    "version": 3
   },
   "file_extension": ".py",
   "mimetype": "text/x-python",
   "name": "python",
   "nbconvert_exporter": "python",
   "pygments_lexer": "ipython3",
   "version": "3.11.4"
  }
 },
 "nbformat": 4,
 "nbformat_minor": 2
}
